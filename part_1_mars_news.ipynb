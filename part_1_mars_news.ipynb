{
 "cells": [
  {
   "cell_type": "markdown",
   "metadata": {},
   "source": [
    "# Module 11 Challenge\n",
    "## Deliverable 1: Scrape Titles and Preview Text from Mars News"
   ]
  },
  {
   "cell_type": "code",
   "execution_count": 1,
   "metadata": {},
   "outputs": [],
   "source": [
    "# Import Splinter and BeautifulSoup\n",
    "from splinter import Browser\n",
    "from bs4 import BeautifulSoup as soup\n",
    "from webdriver_manager.chrome import ChromeDriverManager"
   ]
  },
  {
   "cell_type": "code",
   "execution_count": 2,
   "metadata": {
    "scrolled": true
   },
   "outputs": [
    {
     "name": "stderr",
     "output_type": "stream",
     "text": [
      "[WDM] - Downloading: 100%|████████████████████████████████████████████████████████| 6.58M/6.58M [00:02<00:00, 3.17MB/s]\n"
     ]
    }
   ],
   "source": [
    "#Set up automated browser \n",
    "executable_path = {'executable_path': ChromeDriverManager().install()}\n",
    "browser = Browser('chrome', **executable_path, headless=False)"
   ]
  },
  {
   "cell_type": "markdown",
   "metadata": {},
   "source": [
    "### Step 1: Visit the Website\n",
    "\n",
    "1. Use automated browsing to visit the [Mars NASA news site](https://redplanetscience.com). Inspect the page to identify which elements to scrape.\n",
    "\n",
    "      > **Hint** To identify which elements to scrape, you might want to inspect the page by using Chrome DevTools."
   ]
  },
  {
   "cell_type": "code",
   "execution_count": 3,
   "metadata": {},
   "outputs": [],
   "source": [
    "# Visit the Mars NASA news site: https://redplanetscience.com\n",
    "url = 'https://redplanetscience.com'\n",
    "browser.visit(url)"
   ]
  },
  {
   "cell_type": "markdown",
   "metadata": {},
   "source": [
    "### Step 2: Scrape the Website\n",
    "\n",
    "Create a Beautiful Soup object and use it to extract text elements from the website."
   ]
  },
  {
   "cell_type": "code",
   "execution_count": 4,
   "metadata": {},
   "outputs": [],
   "source": [
    "# Create a Beautiful Soup object \n",
    "html = browser.html\n",
    "html_soup = soup(html, 'html.parser')"
   ]
  },
  {
   "cell_type": "code",
   "execution_count": 5,
   "metadata": {},
   "outputs": [
    {
     "name": "stdout",
     "output_type": "stream",
     "text": [
      "[<div class=\"content_title\">NASA to Hold Mars 2020 Perseverance Rover Launch Briefing</div>, <div class=\"article_teaser_body\">Learn more about the agency's next Red Planet mission during a live event on June 17.</div>, <div class=\"content_title\">Air Deliveries Bring NASA's Perseverance Mars Rover Closer to Launch</div>, <div class=\"article_teaser_body\">A NASA Wallops Flight Facility cargo plane transported more than two tons of equipment — including the rover's sample collection tubes — to Florida for this summer's liftoff.</div>, <div class=\"content_title\">NASA's Perseverance Rover Attached to Atlas V Rocket</div>, <div class=\"article_teaser_body\">Ready for its launch later in the month, the Mars-bound rover will touch terra firma no more.</div>, <div class=\"content_title\">6 Things to Know About NASA's Ingenuity Mars Helicopter</div>, <div class=\"article_teaser_body\">The first helicopter attempting to fly on another planet is a marvel of engineering. Get up to speed with these key facts about its plans.</div>, <div class=\"content_title\">NASA's New Mars Rover Will Use X-Rays to Hunt Fossils</div>, <div class=\"article_teaser_body\">PIXL, an instrument on the end of the Perseverance rover's arm, will search for chemical fingerprints left by ancient microbes.</div>, <div class=\"content_title\">All About the Laser (and Microphone) Atop Mars 2020, NASA's Next Rover</div>, <div class=\"article_teaser_body\">SuperCam is a rock-vaporizing instrument that will help scientists hunt for Mars fossils.</div>, <div class=\"content_title\">Curiosity Mars Rover's Summer Road Trip Has Begun</div>, <div class=\"article_teaser_body\">After more than a year in the \"clay-bearing unit,\" Curiosity is making a mile-long journey around some deep sand so that it can explore higher up Mount Sharp.</div>, <div class=\"content_title\">NASA-JPL Names 'Rolling Stones Rock' on Mars</div>, <div class=\"article_teaser_body\">NASA's Mars InSight mission honored one of the biggest bands of all time at Pasadena concert.</div>, <div class=\"content_title\">NASA Mars Mission Connects With Bosnian and Herzegovinian Town</div>, <div class=\"article_teaser_body\">A letter from NASA was presented to the mayor of Jezero, Bosnia-Herzegovina, honoring the connection between the town and Jezero Crater, the Mars 2020 rover landing site.</div>, <div class=\"content_title\">NASA's Ingenuity Mars Helicopter Recharges Its Batteries in Flight</div>, <div class=\"article_teaser_body\">Headed to the Red Planet with the Perseverance rover, the pioneering helicopter is powered up for the first time in interplanetary space as part of a systems check.</div>, <div class=\"content_title\">NASA Readies Perseverance Mars Rover's Earthly Twin </div>, <div class=\"article_teaser_body\">Did you know NASA's next Mars rover has a nearly identical sibling on Earth for testing? Even better, it's about to roll for the first time through a replica Martian landscape.</div>, <div class=\"content_title\">NASA's Perseverance Rover Bringing 3D-Printed Metal Parts to Mars</div>, <div class=\"article_teaser_body\">For hobbyists and makers, 3D printing expands creative possibilities; for specialized engineers, it's also key to next-generation spacecraft design.</div>, <div class=\"content_title\">Mars Helicopter Attached to NASA's Perseverance Rover</div>, <div class=\"article_teaser_body\">The team also fueled the rover's sky crane to get ready for this summer's history-making launch.</div>, <div class=\"content_title\">NASA's InSight 'Hears' Peculiar Sounds on Mars</div>, <div class=\"article_teaser_body\">Listen to the marsquakes and other, less-expected sounds that the Mars lander has been detecting.</div>, <div class=\"content_title\">NASA's Perseverance Rover Is Midway to Mars </div>, <div class=\"article_teaser_body\">Sometimes half measures can be a good thing – especially on a journey this long. The agency's latest rover only has about 146 million miles left to reach its destination.</div>]\n"
     ]
    }
   ],
   "source": [
    "# Extract all the text elements\n",
    "\n",
    "# text_elements = html_soup.find_all(class_=['div','content_title', 'article_teaser_body'])\n",
    "\n",
    "news_bodies = html_soup.find_all('div','article_teaser_body')\n",
    "news_titles = html_soup.find_all('div','content_title')"
   ]
  },
  {
   "cell_type": "markdown",
   "metadata": {},
   "source": [
    "### Step 3: Store the Results\n",
    "\n",
    "Extract the titles and preview text of the news articles that you scraped. Store the scraping results in Python data structures as follows:\n",
    "\n",
    "* Store each title-and-preview pair in a Python dictionary. And, give each dictionary two keys: `title` and `preview`. An example is the following:\n",
    "\n",
    "  ```python\n",
    "  {'title': \"Mars Rover Begins Mission!\", \n",
    "        'preview': \"NASA's Mars Rover begins a multiyear mission to collect data about the little-explored planet.\"}\n",
    "  ```\n",
    "\n",
    "* Store all the dictionaries in a Python list.\n",
    "\n",
    "* Print the list in your notebook."
   ]
  },
  {
   "cell_type": "code",
   "execution_count": 37,
   "metadata": {},
   "outputs": [],
   "source": [
    "# Create an empty list to store the dictionaries\n",
    "extracted_articles = []\n"
   ]
  },
  {
   "cell_type": "code",
   "execution_count": 56,
   "metadata": {},
   "outputs": [
    {
     "name": "stdout",
     "output_type": "stream",
     "text": [
      "[{'title': 'NASA to Hold Mars 2020 Perseverance Rover Launch Briefing'}, {'title': \"Air Deliveries Bring NASA's Perseverance Mars Rover Closer to Launch\"}, {'title': \"NASA's Perseverance Rover Attached to Atlas V Rocket\"}, {'title': \"6 Things to Know About NASA's Ingenuity Mars Helicopter\"}, {'title': \"NASA's New Mars Rover Will Use X-Rays to Hunt Fossils\"}, {'title': \"All About the Laser (and Microphone) Atop Mars 2020, NASA's Next Rover\"}, {'title': \"Curiosity Mars Rover's Summer Road Trip Has Begun\"}, {'title': \"NASA-JPL Names 'Rolling Stones Rock' on Mars\"}, {'title': 'NASA Mars Mission Connects With Bosnian and Herzegovinian Town'}, {'title': \"NASA's Ingenuity Mars Helicopter Recharges Its Batteries in Flight\"}, {'title': \"NASA Readies Perseverance Mars Rover's Earthly Twin \"}, {'title': \"NASA's Perseverance Rover Bringing 3D-Printed Metal Parts to Mars\"}, {'title': \"Mars Helicopter Attached to NASA's Perseverance Rover\"}, {'title': \"NASA's InSight 'Hears' Peculiar Sounds on Mars\"}, {'title': \"NASA's Perseverance Rover Is Midway to Mars \"}, {'title': 'NASA to Hold Mars 2020 Perseverance Rover Launch Briefing'}, {'title': \"Air Deliveries Bring NASA's Perseverance Mars Rover Closer to Launch\"}, {'title': \"NASA's Perseverance Rover Attached to Atlas V Rocket\"}, {'title': \"6 Things to Know About NASA's Ingenuity Mars Helicopter\"}, {'title': \"NASA's New Mars Rover Will Use X-Rays to Hunt Fossils\"}, {'title': \"All About the Laser (and Microphone) Atop Mars 2020, NASA's Next Rover\"}, {'title': \"Curiosity Mars Rover's Summer Road Trip Has Begun\"}, {'title': \"NASA-JPL Names 'Rolling Stones Rock' on Mars\"}, {'title': 'NASA Mars Mission Connects With Bosnian and Herzegovinian Town'}, {'title': \"NASA's Ingenuity Mars Helicopter Recharges Its Batteries in Flight\"}, {'title': \"NASA Readies Perseverance Mars Rover's Earthly Twin \"}, {'title': \"NASA's Perseverance Rover Bringing 3D-Printed Metal Parts to Mars\"}, {'title': \"Mars Helicopter Attached to NASA's Perseverance Rover\"}, {'title': \"NASA's InSight 'Hears' Peculiar Sounds on Mars\"}, {'title': \"NASA's Perseverance Rover Is Midway to Mars \"}, {'title': 'NASA to Hold Mars 2020 Perseverance Rover Launch Briefing'}, {'title': \"Air Deliveries Bring NASA's Perseverance Mars Rover Closer to Launch\"}, {'title': \"NASA's Perseverance Rover Attached to Atlas V Rocket\"}, {'title': \"6 Things to Know About NASA's Ingenuity Mars Helicopter\"}, {'title': \"NASA's New Mars Rover Will Use X-Rays to Hunt Fossils\"}, {'title': \"All About the Laser (and Microphone) Atop Mars 2020, NASA's Next Rover\"}, {'title': \"Curiosity Mars Rover's Summer Road Trip Has Begun\"}, {'title': \"NASA-JPL Names 'Rolling Stones Rock' on Mars\"}, {'title': 'NASA Mars Mission Connects With Bosnian and Herzegovinian Town'}, {'title': \"NASA's Ingenuity Mars Helicopter Recharges Its Batteries in Flight\"}, {'title': \"NASA Readies Perseverance Mars Rover's Earthly Twin \"}, {'title': \"NASA's Perseverance Rover Bringing 3D-Printed Metal Parts to Mars\"}, {'title': \"Mars Helicopter Attached to NASA's Perseverance Rover\"}, {'title': \"NASA's InSight 'Hears' Peculiar Sounds on Mars\"}, {'title': \"NASA's Perseverance Rover Is Midway to Mars \"}, {'title': 'NASA to Hold Mars 2020 Perseverance Rover Launch Briefing'}, {'title': \"Air Deliveries Bring NASA's Perseverance Mars Rover Closer to Launch\"}, {'title': \"NASA's Perseverance Rover Attached to Atlas V Rocket\"}, {'title': \"6 Things to Know About NASA's Ingenuity Mars Helicopter\"}, {'title': \"NASA's New Mars Rover Will Use X-Rays to Hunt Fossils\"}, {'title': \"All About the Laser (and Microphone) Atop Mars 2020, NASA's Next Rover\"}, {'title': \"Curiosity Mars Rover's Summer Road Trip Has Begun\"}, {'title': \"NASA-JPL Names 'Rolling Stones Rock' on Mars\"}, {'title': 'NASA Mars Mission Connects With Bosnian and Herzegovinian Town'}, {'title': \"NASA's Ingenuity Mars Helicopter Recharges Its Batteries in Flight\"}, {'title': \"NASA Readies Perseverance Mars Rover's Earthly Twin \"}, {'title': \"NASA's Perseverance Rover Bringing 3D-Printed Metal Parts to Mars\"}, {'title': \"Mars Helicopter Attached to NASA's Perseverance Rover\"}, {'title': \"NASA's InSight 'Hears' Peculiar Sounds on Mars\"}, {'title': \"NASA's Perseverance Rover Is Midway to Mars \"}, {'title': 'NASA to Hold Mars 2020 Perseverance Rover Launch Briefing'}, {'title': \"Air Deliveries Bring NASA's Perseverance Mars Rover Closer to Launch\"}, {'title': \"NASA's Perseverance Rover Attached to Atlas V Rocket\"}, {'title': \"6 Things to Know About NASA's Ingenuity Mars Helicopter\"}, {'title': \"NASA's New Mars Rover Will Use X-Rays to Hunt Fossils\"}, {'title': \"All About the Laser (and Microphone) Atop Mars 2020, NASA's Next Rover\"}, {'title': \"Curiosity Mars Rover's Summer Road Trip Has Begun\"}, {'title': \"NASA-JPL Names 'Rolling Stones Rock' on Mars\"}, {'title': 'NASA Mars Mission Connects With Bosnian and Herzegovinian Town'}, {'title': \"NASA's Ingenuity Mars Helicopter Recharges Its Batteries in Flight\"}, {'title': \"NASA Readies Perseverance Mars Rover's Earthly Twin \"}, {'title': \"NASA's Perseverance Rover Bringing 3D-Printed Metal Parts to Mars\"}, {'title': \"Mars Helicopter Attached to NASA's Perseverance Rover\"}, {'title': \"NASA's InSight 'Hears' Peculiar Sounds on Mars\"}, {'title': \"NASA's Perseverance Rover Is Midway to Mars \"}]\n"
     ]
    }
   ],
   "source": [
    "# Loop through the text elements\n",
    "for news_title in news_titles:\n",
    "  # Extract the title and preview text from the elements\n",
    "    title = news_title.get_text()\n",
    "  \n",
    "    data = {\n",
    "        'title': title,\n",
    "    }\n",
    "  \n",
    "  # Add the dictionary to the list\n",
    "    extracted_articles.append(data)\n",
    "\n",
    "print(extracted_articles)"
   ]
  },
  {
   "cell_type": "code",
   "execution_count": 8,
   "metadata": {},
   "outputs": [
    {
     "data": {
      "text/plain": [
       "[{'title': \"Common Questions about InSight's 'Mole'\",\n",
       "  'preview': 'The following Q&As with members of the team answer some of the most common questions about the burrowing device, part of a science instrument called the Heat Flow and Physical Properties Package (HP3).'},\n",
       " {'title': \"NASA's InSight Flexes Its Arm While Its 'Mole' Hits Pause\",\n",
       "  'preview': \"Now that the lander's robotic arm has helped the mole get underground, it will resume science activities that have been on hold.\"},\n",
       " {'title': \"NASA's Perseverance Rover Will Peer Beneath Mars' Surface \",\n",
       "  'preview': \"The agency's newest rover will use the first ground-penetrating radar instrument on the Martian surface to help search for signs of past microbial life. \"},\n",
       " {'title': \"NASA's Mars Rover Drivers Need Your Help\",\n",
       "  'preview': 'Using an online tool to label Martian terrain types, you can train an artificial intelligence algorithm that could improve the way engineers guide the Curiosity rover.'},\n",
       " {'title': 'NASA Invites Public to Share Excitement of Mars 2020 Perseverance Rover Launch',\n",
       "  'preview': 'There are lots of ways to participate in the historic event, which is targeted for July 30.'},\n",
       " {'title': \"NASA's Mars 2020 Rover Completes Its First Drive\",\n",
       "  'preview': 'In a 10-plus-hour marathon, the rover steered, turned and drove in 3-foot (1-meter) increments over small ramps.'},\n",
       " {'title': 'Two of a Space Kind: Apollo 12 and Mars 2020',\n",
       "  'preview': 'Apollo 12 and the upcoming Mars 2020 mission may be separated by half a century, but they share several goals unique in the annals of space exploration.'},\n",
       " {'title': \"3 Things We've Learned From NASA's Mars InSight \",\n",
       "  'preview': 'Scientists are finding new mysteries since the geophysics mission landed two years ago.'},\n",
       " {'title': 'Global Storms on Mars Launch Dust Towers Into the Sky',\n",
       "  'preview': 'A Mars Dust Tower Stands Out Dust storms are common on Mars. But every decade or so, something unpredictable happens: a series of runaway storms break out, covering the entire planet in a dusty haze.'},\n",
       " {'title': 'NASA Administrator Statement on Moon to Mars Initiative, FY 2021 Budget',\n",
       "  'preview': \"Jim Bridenstine addresses NASA's ambitious plans for the coming years, including Mars Sample Return.\"},\n",
       " {'title': \"NASA's Perseverance Rover Will Carry First Spacesuit Materials to Mars\",\n",
       "  'preview': 'In a Q&A, spacesuit designer Amy Ross explains how five samples, including a piece of helmet visor, will be tested aboard the rover, which is targeting a July 30 launch. '},\n",
       " {'title': \"NASA's Mars 2020 Rover Closer to Getting Its Name\",\n",
       "  'preview': \"155 students from across the U.S. have been chosen as semifinalists in NASA's essay contest to name the Mars 2020 rover, and see it launch from Cape Canaveral this July.\"},\n",
       " {'title': \"NASA's Mars Helicopter Attached to Mars 2020 Rover \",\n",
       "  'preview': 'The helicopter will be first aircraft to perform flight tests on another planet.'},\n",
       " {'title': \"InSight's 'Mole' Team Peers into the Pit\",\n",
       "  'preview': 'Efforts to save the heat probe continue.'},\n",
       " {'title': \"Q&A with the Student Who Named Ingenuity, NASA's Mars Helicopter\",\n",
       "  'preview': 'As a longtime fan of space exploration, Vaneeza Rupani appreciates the creativity and collaboration involved with trying to fly on another planet.'}]"
      ]
     },
     "execution_count": 8,
     "metadata": {},
     "output_type": "execute_result"
    }
   ],
   "source": [
    "# Print the list to confirm success\n"
   ]
  },
  {
   "cell_type": "code",
   "execution_count": 9,
   "metadata": {},
   "outputs": [],
   "source": [
    "browser.quit()"
   ]
  }
 ],
 "metadata": {
  "kernelspec": {
   "display_name": "PythonData",
   "language": "python",
   "name": "pythondata"
  },
  "language_info": {
   "codemirror_mode": {
    "name": "ipython",
    "version": 3
   },
   "file_extension": ".py",
   "mimetype": "text/x-python",
   "name": "python",
   "nbconvert_exporter": "python",
   "pygments_lexer": "ipython3",
   "version": "3.9.13"
  }
 },
 "nbformat": 4,
 "nbformat_minor": 4
}
